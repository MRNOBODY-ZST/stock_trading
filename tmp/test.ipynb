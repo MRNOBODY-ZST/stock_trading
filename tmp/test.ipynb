{
 "cells": [
  {
   "cell_type": "code",
   "execution_count": 6,
   "metadata": {},
   "outputs": [],
   "source": [
    "import pickle as pkl"
   ]
  },
  {
   "cell_type": "code",
   "execution_count": 7,
   "metadata": {},
   "outputs": [],
   "source": [
    "pkl_file = open(\"predictions/AAPL_predictions.pkl\",\"rb\")"
   ]
  },
  {
   "cell_type": "code",
   "execution_count": 8,
   "metadata": {},
   "outputs": [],
   "source": [
    "c = pkl.load(pkl_file)"
   ]
  },
  {
   "cell_type": "code",
   "execution_count": null,
   "metadata": {},
   "outputs": [],
   "source": []
  },
  {
   "cell_type": "markdown",
   "metadata": {},
   "source": [
    "第一份代码是我现有的EnhancedAgent.py，第二份代码文件名为stock_prediction_lstm.py是使用lstm对股票预测的模型的训练代码，输出的是LSTM预测的涨跌幅数据，具体数据内容示例如下：\n",
    "\n",
    "2023-01-09 00:00:00+00:00,2023-01-10 00:00:00+00:00,2023-01-11 00:00:00+00:00,2023-01-12 00:00:00+00:00,\n",
    "\n",
    "0.0018877417,0.0029542136,0.0028933815,0.0035958313,\n",
    "\n",
    "请从第二份代码中自行分析第二行数据代表的意义\n",
    "\n",
    "我现在想让第一份代码中的Agent的训练数据变为第二份代码输出的数据内容，以PKL文件的方式加载并训练现有的Agent。\n",
    "\n",
    "请尽最大可能不要改动第一份代码的Agent，去除第一份代码中的LSTMModel，加载第二份代码中的数据，训练Agent。\n",
    "\n",
    "请完整输出改动后的第一份代码的内容\n",
    "\n"
   ]
  }
 ],
 "metadata": {
  "kernelspec": {
   "display_name": ".venv",
   "language": "python",
   "name": "python3"
  },
  "language_info": {
   "codemirror_mode": {
    "name": "ipython",
    "version": 3
   },
   "file_extension": ".py",
   "mimetype": "text/x-python",
   "name": "python",
   "nbconvert_exporter": "python",
   "pygments_lexer": "ipython3",
   "version": "3.12.3"
  }
 },
 "nbformat": 4,
 "nbformat_minor": 2
}
