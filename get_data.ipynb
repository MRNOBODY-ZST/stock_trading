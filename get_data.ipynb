{
 "cells": [
  {
   "cell_type": "code",
   "execution_count": 1,
   "metadata": {},
   "outputs": [],
   "source": [
    "import yfinance as yf\n",
    "import os"
   ]
  },
  {
   "cell_type": "code",
   "execution_count": 2,
   "metadata": {},
   "outputs": [],
   "source": [
    "# 指定股票代码列表\n",
    "tickers = [\n",
    "    'AAPL', 'MSFT', 'GOOGL', 'AMZN', 'TSLA',\n",
    "    'JPM', 'BAC', 'C', 'WFC', 'GS',\n",
    "    'JNJ', 'PFE', 'MRK', 'ABBV', 'BMY',\n",
    "    'XOM', 'CVX', 'COP', 'SLB', 'BKR',\n",
    "    'DIS', 'NFLX', 'CMCSA', 'NKE', 'SBUX',\n",
    "    'CAT', 'DE', 'MMM', 'GE', 'HON'\n",
    "]"
   ]
  },
  {
   "cell_type": "code",
   "execution_count": 3,
   "metadata": {},
   "outputs": [],
   "source": [
    "# 设置时间范围\n",
    "start_date = \"2023-01-01\"\n",
    "end_date = \"2024-01-01\""
   ]
  },
  {
   "cell_type": "code",
   "execution_count": 4,
   "metadata": {},
   "outputs": [],
   "source": [
    "# 创建保存数据的文件夹\n",
    "folder_name = \"dataset\"\n",
    "if not os.path.exists(folder_name):\n",
    "    os.makedirs(folder_name)"
   ]
  },
  {
   "cell_type": "code",
   "execution_count": null,
   "metadata": {},
   "outputs": [],
   "source": [
    "# 获取数据并保存为CSV\n",
    "for ticker in tickers:\n",
    "    # 下载数据\n",
    "    data = yf.download(ticker, start=start_date, end=end_date)\n",
    "    \n",
    "    # 检查是否下载成功\n",
    "    if data.empty:\n",
    "        print(f\"数据下载失败: {ticker}\")\n",
    "        continue\n",
    "    \n",
    "    # 添加年份到文件名\n",
    "    file_name = f\"{folder_name}/{ticker}_2023.csv\"\n",
    "    \n",
    "    # 保存数据到CSV文件\n",
    "    data.to_csv(file_name, index_label='Date')\n",
    "    print(f\"已保存: {file_name}\")"
   ]
  }
 ],
 "metadata": {
  "kernelspec": {
   "display_name": ".venv",
   "language": "python",
   "name": "python3"
  },
  "language_info": {
   "codemirror_mode": {
    "name": "ipython",
    "version": 3
   },
   "file_extension": ".py",
   "mimetype": "text/x-python",
   "name": "python",
   "nbconvert_exporter": "python",
   "pygments_lexer": "ipython3",
   "version": "3.12.3"
  }
 },
 "nbformat": 4,
 "nbformat_minor": 2
}
